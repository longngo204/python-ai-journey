{
 "cells": [
  {
   "cell_type": "code",
   "execution_count": 7,
   "id": "b0e819ed",
   "metadata": {},
   "outputs": [],
   "source": [
    "import itertools"
   ]
  },
  {
   "cell_type": "code",
   "execution_count": 1,
   "id": "4593de03",
   "metadata": {},
   "outputs": [],
   "source": [
    "words = [\"hi\", \"cat\", \"dog\", \"a\", \"bear\"]"
   ]
  },
  {
   "cell_type": "code",
   "execution_count": null,
   "id": "ab45f2bd",
   "metadata": {},
   "outputs": [],
   "source": [
    "grouped_data = {}\n",
    "for word in words:\n",
    "    if len(word) not in grouped_data.keys():\n",
    "        grouped_data[len(word)] = [word]\n",
    "    else:\n",
    "        grouped_data[len(word)].append(word)\n"
   ]
  },
  {
   "cell_type": "code",
   "execution_count": 29,
   "id": "e392de07",
   "metadata": {},
   "outputs": [],
   "source": [
    "from collections import Counter"
   ]
  },
  {
   "cell_type": "code",
   "execution_count": 44,
   "id": "c9b32332",
   "metadata": {},
   "outputs": [
    {
     "data": {
      "text/plain": [
       "[1, 3, 5, 10, 16, 22]"
      ]
     },
     "execution_count": 44,
     "metadata": {},
     "output_type": "execute_result"
    }
   ],
   "source": [
    "list(itertools.accumulate([1,2,2,5,6,6]))"
   ]
  },
  {
   "cell_type": "code",
   "execution_count": 39,
   "id": "5ef90b6e",
   "metadata": {},
   "outputs": [],
   "source": [
    "words = [\"cat\",\"dog\",\"cat\",\"chicken\",\"chicken\",\"bird\",\"chicken\",\"dog\",\"duck\"]\n",
    "freq_list = {}\n",
    "for word in words:\n",
    "    if word not in freq_list:\n",
    "        freq_list[word]=1\n",
    "    else:\n",
    "        freq_list[word] += 1"
   ]
  },
  {
   "cell_type": "code",
   "execution_count": 40,
   "id": "2601be23",
   "metadata": {},
   "outputs": [
    {
     "data": {
      "text/plain": [
       "{'cat': 2, 'dog': 2, 'chicken': 3, 'bird': 1, 'duck': 1}"
      ]
     },
     "execution_count": 40,
     "metadata": {},
     "output_type": "execute_result"
    }
   ],
   "source": [
    "freq_list"
   ]
  },
  {
   "cell_type": "code",
   "execution_count": null,
   "id": "0adf8a6a",
   "metadata": {},
   "outputs": [],
   "source": [
    "grouped_data = {length: [word for word in words if len(word) == length] \n",
    "                for length in set(map(len, words))}"
   ]
  },
  {
   "cell_type": "code",
   "execution_count": 22,
   "id": "dd757a6e",
   "metadata": {},
   "outputs": [
    {
     "data": {
      "text/plain": [
       "{1: ['a'], 2: ['hi'], 3: ['cat', 'dog'], 4: ['bear']}"
      ]
     },
     "execution_count": 22,
     "metadata": {},
     "output_type": "execute_result"
    }
   ],
   "source": [
    "grouped_data"
   ]
  },
  {
   "cell_type": "code",
   "execution_count": 11,
   "id": "16d000c5",
   "metadata": {},
   "outputs": [
    {
     "data": {
      "text/plain": [
       "dict_values([2, 3, 3, 1, 4])"
      ]
     },
     "execution_count": 11,
     "metadata": {},
     "output_type": "execute_result"
    }
   ],
   "source": [
    "len_list.values()"
   ]
  },
  {
   "cell_type": "code",
   "execution_count": null,
   "id": "5da781f8",
   "metadata": {},
   "outputs": [],
   "source": []
  }
 ],
 "metadata": {
  "kernelspec": {
   "display_name": "Python 3",
   "language": "python",
   "name": "python3"
  },
  "language_info": {
   "codemirror_mode": {
    "name": "ipython",
    "version": 3
   },
   "file_extension": ".py",
   "mimetype": "text/x-python",
   "name": "python",
   "nbconvert_exporter": "python",
   "pygments_lexer": "ipython3",
   "version": "3.13.6"
  }
 },
 "nbformat": 4,
 "nbformat_minor": 5
}
